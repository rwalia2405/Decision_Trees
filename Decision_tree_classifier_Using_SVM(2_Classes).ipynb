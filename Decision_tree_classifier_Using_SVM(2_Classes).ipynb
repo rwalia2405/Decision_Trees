{
  "nbformat": 4,
  "nbformat_minor": 0,
  "metadata": {
    "colab": {
      "name": "Decision_tree_classifier_Using_SVM(2 Classes).ipynb",
      "provenance": [],
      "authorship_tag": "ABX9TyOB0RgsaXQYIcqC2KSr24JB",
      "include_colab_link": true
    },
    "kernelspec": {
      "name": "python3",
      "display_name": "Python 3"
    },
    "accelerator": "GPU"
  },
  "cells": [
    {
      "cell_type": "markdown",
      "metadata": {
        "id": "view-in-github",
        "colab_type": "text"
      },
      "source": [
        "<a href=\"https://colab.research.google.com/github/rwalia2405/Decision_Trees/blob/master/Decision_tree_classifier_Using_SVM(2_Classes).ipynb\" target=\"_parent\"><img src=\"https://colab.research.google.com/assets/colab-badge.svg\" alt=\"Open In Colab\"/></a>"
      ]
    },
    {
      "cell_type": "code",
      "metadata": {
        "id": "_LEo5WKCD2JS",
        "colab_type": "code",
        "colab": {}
      },
      "source": [
        "import numpy as np"
      ],
      "execution_count": 0,
      "outputs": []
    },
    {
      "cell_type": "code",
      "metadata": {
        "id": "d_7m2i4YD8SQ",
        "colab_type": "code",
        "colab": {}
      },
      "source": [
        "class Node:\n",
        "    def __init__(self, predicted_class):\n",
        "        self.predicted_class = predicted_class\n",
        "        self.w=[0]\n",
        "        self.i=0\n",
        "        self.left = None\n",
        "        self.right = None"
      ],
      "execution_count": 0,
      "outputs": []
    },
    {
      "cell_type": "code",
      "metadata": {
        "id": "xHt7ZreYEDDh",
        "colab_type": "code",
        "colab": {}
      },
      "source": [
        "from sklearn import svm\n",
        "model=svm.SVC(kernel='linear')\n",
        "class DecisionTreeClassifier:\n",
        "    def __init__(self, max_depth=None):\n",
        "        self.max_depth = max_depth\n",
        "\n",
        "    def fit(self, X, y):\n",
        "        self.n_classes_ = len(set(y))\n",
        "        self.n_features_ = X.shape[1]\n",
        "        self.tree_ = self._grow_tree(X, y)\n",
        "\n",
        "    def predict(self, X):\n",
        "        return [self._predict(inputs) for inputs in X]\n",
        "\n",
        "    def _grow_tree(self, X, y, depth=0):\n",
        "        num_samples_per_class = [np.sum(y == i) for i in range(self.n_classes_)]\n",
        "        predicted_class = np.argmax(num_samples_per_class)\n",
        "        node = Node(predicted_class=predicted_class)\n",
        "        if depth < self.max_depth and np.unique(y).shape[0]>1:\n",
        "            model.fit(X,y)\n",
        "            w=model.coef_\n",
        "            i=model.intercept_\n",
        "            desc=X.dot(np.transpose(w))+i\n",
        "            indices_left = desc < 0\n",
        "            # print(\"indices_left\",indices_left.shape)\n",
        "            node.w=w\n",
        "            node.i=i\n",
        "            indices_left=np.squeeze(indices_left)\n",
        "            X_left, y_left = X[indices_left], y[indices_left]\n",
        "            X_right, y_right = X[~indices_left], y[~indices_left]\n",
        "            node.left = self._grow_tree(X_left, y_left, depth + 1)\n",
        "            node.right = self._grow_tree(X_right, y_right, depth + 1)\n",
        "        return node\n",
        "\n",
        "    def _predict(self, inputs):\n",
        "        node = self.tree_\n",
        "        while node.left:\n",
        "            if (inputs.reshape(1,inputs.shape[0])).dot(np.transpose(node.w))+node.i < 0:\n",
        "                node = node.left\n",
        "            else:\n",
        "                node = node.right\n",
        "        return node.predicted_class\n"
      ],
      "execution_count": 0,
      "outputs": []
    },
    {
      "cell_type": "code",
      "metadata": {
        "id": "MNG2ntw6EFyu",
        "colab_type": "code",
        "colab": {
          "base_uri": "https://localhost:8080/",
          "height": 34
        },
        "outputId": "73b0da1d-a75e-4199-bec3-e343dabc52eb"
      },
      "source": [
        "if __name__ == \"__main__\":\n",
        "    import sys\n",
        "    from sklearn import datasets\n",
        "    from sklearn.model_selection import train_test_split\n",
        "    from sklearn.metrics import accuracy_score\n",
        "\n",
        "    dataset = datasets.load_breast_cancer()\n",
        "    X, y = dataset.data, dataset.target\n",
        "    X_train, X_test, y_train, y_test = train_test_split(X, y, random_state = 0)\n",
        "\n",
        "    clf = DecisionTreeClassifier(max_depth=2)\n",
        "    clf.fit(X_train, y_train)\n",
        "\n",
        "    print(\"Accuracy:\",accuracy_score(y_test,clf.predict(X_test)))\n",
        "\n",
        "    # print(clf.predict(X_test))"
      ],
      "execution_count": 4,
      "outputs": [
        {
          "output_type": "stream",
          "text": [
            "Accuracy: 0.951048951048951\n"
          ],
          "name": "stdout"
        }
      ]
    },
    {
      "cell_type": "code",
      "metadata": {
        "id": "aLHrvsWYEIT_",
        "colab_type": "code",
        "colab": {}
      },
      "source": [
        ""
      ],
      "execution_count": 0,
      "outputs": []
    }
  ]
}
